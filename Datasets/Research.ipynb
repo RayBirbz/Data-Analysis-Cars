{
 "cells": [
  {
   "attachments": {},
   "cell_type": "markdown",
   "metadata": {},
   "source": [
    "# **Dataset Research**"
   ]
  },
  {
   "attachments": {},
   "cell_type": "markdown",
   "metadata": {},
   "source": [
    "### Identifying and Defining"
   ]
  },
  {
   "attachments": {},
   "cell_type": "markdown",
   "metadata": {},
   "source": [
    "#### **The Scenario and Purpose**\n",
    "##### My chosen scenario is the cost of using a car, which is based on many factors including current price, fuel type, seller type and transmission. With this dataset, I can analyse the data to find out what factors are influencing the cost of different models of cars spread across different dates. The data is accessible publicly on Kaggle, and can be downloaded as a CSV. I will analyse the data in its CSV format. \n",
    "##### The link to the dataset is https://www.kaggle.com/datasets/zahrayazdani81/carsdataset/data"
   ]
  },
  {
   "attachments": {},
   "cell_type": "markdown",
   "metadata": {},
   "source": [
    "### Functional Requirements"
   ]
  },
  {
   "attachments": {},
   "cell_type": "markdown",
   "metadata": {},
   "source": [
    "#### **Data Loading**\n",
    "##### To ensure the data is suitable for analysis, the dataset needs to be imported as an appropiate file format. The dataset for analysis would be in a CSV format. In order to ensure the data can be read with Pandas, the CSV must have accurate data placement in regards with commas, to make sure rows and columns are readable to the computer.\n",
    "#### **Data Cleaning** \n",
    "##### The system also needs to be able to allow filtering, sorting and grouping to enable successfull analysis. The dataset also needs to be \"organised\" in a way that removes incorrect or invalid pieces of data before the analysis occurs, to ensure accurate results.\n",
    "#### **Data Analysis**\n",
    "##### \n"
   ]
  }
 ],
 "metadata": {
  "language_info": {
   "name": "python"
  },
  "orig_nbformat": 4
 },
 "nbformat": 4,
 "nbformat_minor": 2
}
