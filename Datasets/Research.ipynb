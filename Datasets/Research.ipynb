{
 "cells": [
  {
   "attachments": {},
   "cell_type": "markdown",
   "metadata": {},
   "source": [
    "# **Dataset Research**"
   ]
  },
  {
   "attachments": {},
   "cell_type": "markdown",
   "metadata": {},
   "source": [
    "### Identifying and Defining"
   ]
  },
  {
   "attachments": {},
   "cell_type": "markdown",
   "metadata": {},
   "source": [
    "#### **The Scenario and Purpose**\n",
    "##### My chosen scenario is the cost of using a car, which is based on many factors including current price, fuel type, seller type and transmission. With this dataset, I can analyse the data to find out what factors are influencing the cost of different models of cars spread across different dates. The data is accessible publicly on Kaggle, and can be downloaded as a CSV. I will analyse the data in its CSV format. \n",
    "##### The link to the dataset is https://www.kaggle.com/datasets/zahrayazdani81/carsdataset/data"
   ]
  },
  {
   "attachments": {},
   "cell_type": "markdown",
   "metadata": {},
   "source": [
    "### Functional Requirements"
   ]
  },
  {
   "attachments": {},
   "cell_type": "markdown",
   "metadata": {},
   "source": [
    "#### **Data Loading**\n",
    "##### To ensure the data is suitable for analysis, the dataset needs to be imported as an appropiate file format. The dataset for analysis would be in a CSV format.\n",
    " * The user will need to **input** an appropiate file format (CSV, preferrably).\n",
    " * There wouldn't be an **output**, but to ensure the file can be read with Pandas, the CSV must have accurate data placement in regards with commas, to make sure rows and columns are readable to the computer.\n",
    "#### **Data Cleaning** \n",
    "##### The system also needs to be able to allow filtering, sorting and grouping to enable successful analysis. The dataset also needs to be \"organised\" in a way that removes incorrect or invalid pieces of data before the analysis occurs, to ensure accurate results.\n",
    " * The **user** will need to either run a process that uses Pandas to filter data, or they can use a spreadsheet program, such as Excel, and utilise it to filter out the invalid information.\n",
    " * The program should be able to **output** a correct and clean dataset. \n",
    "#### **Data Analysis**\n",
    "##### The statistical analysis needs to conduct a variety of different processes to output useful results. These process include the mean, median and mode for various columns in the dataset, such as mileage and price. However, mean and median may only be able to be analysed for numerical data. For non-numerical data, most frequent and infrequent values can also be analysed.\n",
    " * The **user** will need to run a program where it is capable of analysing data. \n",
    " * The program will need to **output** the necessary analysis results requested by the user. It may be sorted into variables into a dataset.\n",
    "#### **Data Visualisation**\n",
    "##### The data will be visualised mainly through Matplotlib graphs. With the use of dataframes (another method of visualisation) and datasets to store data, graphs can be created as an easy and consumable method of visualising large amounts of the data.\n",
    " * The **user** will need to specify what kind of graph through the Matplotlib module. They may also request a table of summary.\n",
    " * The program will need to **output** the specified graph or table.\n",
    "#### **Data Reporting**\n",
    "##### The system will need to create some statistical information relating to the dataset (quantity of rows, columns, mean, etc.) will also be a part of the output results, as an extra summary of the information. Data reporting can also be outside of the program, where written reports can be created based on the information gathered fro the analysis.\n",
    "\n",
    "\n",
    " * The **user** will need to request statistical information from the program.\n",
    " * The program will need to **output** the requested statistical information, making sure it is correct/valid. "
   ]
  },
  {
   "attachments": {},
   "cell_type": "markdown",
   "metadata": {},
   "source": [
    "### Use Cases"
   ]
  },
  {
   "attachments": {},
   "cell_type": "markdown",
   "metadata": {},
   "source": [
    "#### **Data Loading**\n",
    "##### **Actor:** Data Analysist or User\n",
    "##### **Goal:** To import a correct file format as a dataset into the system.\n",
    "##### **Preconditions:** User has a dataset ready to be imported.\n",
    "> ##### 1. User imports the dataset into the correct folder to be read. \n",
    "> ##### 2. System reads and validates the dataset\n",
    "> ##### 3. System displays the dataset in a dataframe\n",
    "#####  **Postconditions:** Dataset is ready for the next steps of analysis.\n",
    "#### **Data Cleaning**\n",
    "##### **Actor:** Data Analysist\n",
    "##### **Goal:** For the system to filter out incorrect, misplaced or broken data out of the dataset.\n",
    "##### **Preconditions:** The system already has a dataset imported\n",
    "> ##### 1. Data analysist runs a program that filters out invalid data.\n",
    "> ##### 2. (If required) Data analysist manually cleans some portions of the dataset\n",
    "> ##### 3. The system is able to present the cleaned dataset as a valid dataframe. \n",
    "##### **Postconditions:** Data has been filtered and cleaned.\n",
    "#### **Data Analysis**\n",
    "##### **Actor:** Data Analysist\n",
    "##### **Goal:** To analyse the data to extract important pieces of it and make summaries\n",
    "##### **Preconditions:** The selected dataset has already been cleaned; ready for analysis. There should also be a program that analyses the data.\n",
    "> ##### 1. Data analysist runs a program that analyses the data.\n",
    "> ##### 2. System runs the analysis.\n",
    "> ##### 3. System prints out the requested data for analysis (e.g. mean, median, categories)\n",
    "##### **Postconditions:** The system outputs the requested analysis.\n",
    "#### **Data Visualisation**\n",
    "##### **Actor:** Data Analysist or User\n",
    "##### **Goal:** The system outputs a readable graph that visualises the trends of the data.\n",
    "##### **Preconditions:** The data has been cleaned and formatted correctly, but it may not necessarily have to go through an analysis.\n",
    "> ##### 1. Data analysist requests the specified visualisation\n",
    "> ##### 2. System validates the requested visualisaton\n",
    "> ##### 3. System outputs the visualisation\n",
    "##### **Postconditions:** The requested visualisation is the output.\n",
    "#### **Data Reporting**\n",
    "##### **Actor:** Data Analysist\n",
    "##### **Goal:** To extract statistical information on the dataset (quanity of rows, columns etc.)\n",
    "##### **Preconditions:** Dataset has already been cleaned and formatted correctly.\n",
    "> ##### 1. Data analysist requests the desired statistical information\n",
    "> ##### 2. System checks dataset/dataframe for the information\n",
    "> ##### 3. System outputs the statistical information\n",
    "##### **Postconditions:** The correct and desired statistical information is the output."
   ]
  },
  {
   "attachments": {},
   "cell_type": "markdown",
   "metadata": {},
   "source": [
    "#### **Non-functional requirements**\n",
    "##### **Usability**\n",
    "##### The user-interface should be able to perform a number of tasks efficiently, including menus, buttons, and navigation bars. It should also be easy to navigate to different tasks, making seamless user experience. Having a user-interface also makes it easier for the user to understand how to perform different tasks, without having to spend an excessive amount of time trying to figure out how to do a certain task. A **READ ME** document is also very helpful, as it provides the user with some context, background information, and even instructions on how to use the program or UI. A README document should contain background information, instructions, support, and even some legal information if needed.\n",
    "##### **Reliability**\n",
    "##### When errors are found, the system should give some technical information about the error, as well as suggesting some solutions on resolving the error. The technical information is important as it gives an idea of where the error may be found. These reliability factors are essential when the system needs to give information about an error.\n"
   ]
  },
  {
   "attachments": {},
   "cell_type": "markdown",
   "metadata": {},
   "source": [
    "### Research of Chosen issue"
   ]
  },
  {
   "attachments": {},
   "cell_type": "markdown",
   "metadata": {},
   "source": [
    "#### **Purpose**\n",
    "##### My chosen issue was the cost of using cars. Conducting an analysis on this issue has a purpose, which is revealing hidden factors of the cost of using cars that many people may not know about. Further research should be conducted on this issue as it may guide people on what factors to look out for when trying to use a car as a method of transportation. It has the potential to assist them when considering to use a car.\n",
    "#### **Missing Data**\n",
    "##### I think it is necessary to carry out this analysis because of its real-world applications, which is also what the dataset was made for. WHen I researched some of the current data and information about the cost of using cars, I found that some of the sources did not include specific prices (selling and current price), specific car models and some of the different years these cars costed to use.beta nooooooQ"
   ]
  }
 ],
 "metadata": {
  "language_info": {
   "name": "python"
  },
  "orig_nbformat": 4
 },
 "nbformat": 4,
 "nbformat_minor": 2
}
