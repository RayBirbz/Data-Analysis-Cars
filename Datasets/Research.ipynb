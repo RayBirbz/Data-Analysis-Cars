{
 "cells": [
  {
   "attachments": {},
   "cell_type": "markdown",
   "metadata": {},
   "source": [
    "# **Dataset Research**"
   ]
  },
  {
   "attachments": {},
   "cell_type": "markdown",
   "metadata": {},
   "source": [
    "### Identifying and Defining"
   ]
  },
  {
   "attachments": {},
   "cell_type": "markdown",
   "metadata": {},
   "source": [
    "#### **The Scenario and Purpose**\n",
    "##### My chosen scenario is the cost of using a car, which is based on many factors including current price, fuel type, seller type and transmission. With this dataset, I can analyse the data to find out what factors are influencing the cost of different models of cars spread across different dates. The data is accessible publicly on Kaggle, and can be downloaded as a CSV. I will analyse the data in its CSV format. \n",
    "##### The link to the dataset is https://www.kaggle.com/datasets/zahrayazdani81/carsdataset/data"
   ]
  },
  {
   "attachments": {},
   "cell_type": "markdown",
   "metadata": {},
   "source": [
    "### Functional Requirements"
   ]
  },
  {
   "attachments": {},
   "cell_type": "markdown",
   "metadata": {},
   "source": [
    "#### **Data Loading**\n",
    "##### To ensure the data is suitable for analysis, the dataset needs to be imported as an appropiate file format. The dataset for analysis would be in a CSV format.\n",
    " * The user will need to **input** an appropiate file format (CSV, preferrably).\n",
    " * There wouldn't be an **output**, but to ensure the file can be read with Pandas, the CSV must have accurate data placement in regards with commas, to make sure rows and columns are readable to the computer.\n",
    "#### **Data Cleaning** \n",
    "##### The system also needs to be able to allow filtering, sorting and grouping to enable successful analysis. The dataset also needs to be \"organised\" in a way that removes incorrect or invalid pieces of data before the analysis occurs, to ensure accurate results.\n",
    " * The **user** will need to either run a process that uses Pandas to filter data, or they can use a spreadsheet program, such as Excel, and utilise it to filter out the invalid information.\n",
    " * The program should be able to **output** a correct and clean dataset. \n",
    "#### **Data Analysis**\n",
    "##### The statistical analysis needs to conduct a variety of different processes to output useful results. These process include the mean, median and mode for various columns in the dataset, such as mileage and price. However, mean and median may only be able to be analysed for numerical data. For non-numerical data, most frequent and infrequent values can also be analysed.\n",
    " * The **user** will need to run a program where it is capable of analysing data. \n",
    " * The program will need to **output** the necessary analysis results requested by the user. It may be sorted into variables into a dataset.\n",
    "#### **Data Visualisation**\n",
    "##### The data will be visualised mainly through Matplotlib graphs. With the use of dataframes (another method of visualisation) and datasets to store data, graphs can be created as an easy and consumable method of visualising large amounts of the data.\n",
    " * The **user** will need to specify what kind of graph through the Matplotlib module. They may also request a table of summary.\n",
    " * The program will need to **output** the specified graph or table.\n",
    "#### **Data Reporting**\n",
    "##### The system will need to create some statistical information relating to the dataset (quantity of rows, columns, mean, etc.) will also be a part of the output results, as an extra summary of the information. Data reporting can also be outside of the program, where written reports can be created based on the information gathered fro the analysis.\n",
    "\n",
    "\n",
    " * The **user** will need to request statistical information from the program.\n",
    " * The program will need to **output** the requested statistical information, making sure it is correct/valid. "
   ]
  },
  {
   "attachments": {},
   "cell_type": "markdown",
   "metadata": {},
   "source": [
    "### Use Cases"
   ]
  },
  {
   "attachments": {},
   "cell_type": "markdown",
   "metadata": {},
   "source": [
    "#### **Data Loading**\n",
    "##### **Actor:** Data Analysist or User\n",
    "##### **Goal:** To import a correct file format as a dataset into the system.\n",
    "##### **Preconditions:** User has a dataset ready to be imported.\n",
    "> ##### 1. User imports the dataset into the correct folder to be read. \n",
    "> ##### 2. System reads and validates the dataset\n",
    "> ##### 3. System displays the dataset in a dataframe\n",
    "#####  **Postconditions:** Dataset is ready for the next steps of analysis.\n",
    "#### **Data Cleaning**\n",
    "##### **Actor:** Data Analysist\n",
    "##### **Goal:** For the system to filter out incorrect, misplaced or broken data out of the dataset.\n",
    "##### **Preconditions:** The system already has a dataset imported\n",
    "> ##### 1. Data analysist runs a program that filters out invalid data.\n",
    "> ##### 2. (If required) Data analysist manually cleans some portions of the dataset\n",
    "> ##### 3. The system is able to present the cleaned dataset as a valid dataframe. \n",
    "##### **Postconditions:** Data has been filtered and cleaned.\n",
    "#### **Data Analysis**\n",
    "##### **Actor:** Data Analysist\n",
    "##### **Goal:** To analyse the data to extract important pieces of it and make summaries\n",
    "##### **Preconditions:** The selected dataset has already been cleaned; ready for analysis. There should also be a program that analyses the data.\n",
    "> ##### 1. Data analysist runs a program that analyses the data.\n",
    "> ##### 2. System runs the analysis.\n",
    "> ##### 3. System prints out the requested data for analysis (e.g. mean, median, categories)\n",
    "##### **Postconditions:** The system outputs the requested analysis.\n",
    "#### **Data Visualisation**\n",
    "##### **Actor:** Data Analysist or User\n",
    "##### **Goal:** The system outputs a readable graph that visualises the trends of the data.\n",
    "##### **Preconditions:** The data has been cleaned and formatted correctly, but it may not necessarily have to go through an analysis.\n",
    "> ##### 1. Data analysist requests the specified visualisation\n",
    "> ##### 2. System validates the requested visualisaton\n",
    "> ##### 3. System outputs the visualisation\n",
    "##### **Postconditions:** The requested visualisation is the output.\n",
    "#### **Data Reporting**\n",
    "##### **Actor:** Data Analysist\n",
    "##### **Goal:** To extract statistical information on the dataset (quanity of rows, columns etc.)\n",
    "##### **Preconditions:** Dataset has already been cleaned and formatted correctly.\n",
    "> ##### 1. Data analysist requests the desired statistical information\n",
    "> ##### 2. System checks dataset/dataframe for the information\n",
    "> ##### 3. System outputs the statistical information\n",
    "##### **Postconditions:** The correct and desired statistical information is the output."
   ]
  },
  {
   "attachments": {},
   "cell_type": "markdown",
   "metadata": {},
   "source": [
    "#### **Non-functional requirements**\n",
    "##### **Usability**\n",
    "##### The user-interface should be able to perform a number of tasks efficiently, including menus, buttons, and navigation bars. It should also be easy to navigate to different tasks, making seamless user experience. Having a user-interface also makes it easier for the user to understand how to perform different tasks, without having to spend an excessive amount of time trying to figure out how to do a certain task. A **READ ME** document is also very helpful, as it provides the user with some context, background information, and even instructions on how to use the program or UI. A README document should contain background information, instructions, support, and even some legal information if needed.\n",
    "##### **Reliability**\n",
    "##### When errors are found, the system should give some technical information about the error, as well as suggesting some solutions on resolving the error. The technical information is important as it gives an idea of where the error may be found. These reliability factors are essential when the system needs to give information about an error.\n"
   ]
  },
  {
   "attachments": {},
   "cell_type": "markdown",
   "metadata": {},
   "source": [
    "### Research of Chosen issue"
   ]
  },
  {
   "attachments": {},
   "cell_type": "markdown",
   "metadata": {},
   "source": [
    "#### **Purpose**\n",
    "##### My chosen issue was the cost of using cars. Conducting an analysis on this issue has a purpose, which is revealing hidden factors of the cost of using cars that many people may not know about. Further research should be conducted on this issue as it may guide people on what factors to look out for when trying to use a car as a method of transportation. It has the potential to assist them when considering to use a car.\n",
    "#### **Missing Data**\n",
    "##### I think it is necessary to carry out this analysis because of its real-world applications, which is also what the dataset was made for. WHen I researched some of the current data and information about the cost of using cars, I found that some of the sources did not include specific prices (selling and current price), specific car models and some of the different years these cars costed to use.\n",
    "#### **Stakeholders** \n",
    "##### Some small businesses and entrepeneurs may benefit from my information. People who are considering to purchase cars may also benefit from the information,\n",
    "#### **Use**\n",
    "##### Businesses and entrepeneurs are able to benefit from my information by discovering trends and patterns by analyzing the results. People who are looking to purchase cars may also use this information, where they can analyse various factors that influence the price of cars, assisting their decisions when it comes to purchasing them.\n"
   ]
  },
  {
   "attachments": {},
   "cell_type": "markdown",
   "metadata": {},
   "source": [
    "### Privacy and Security"
   ]
  },
  {
   "attachments": {},
   "cell_type": "markdown",
   "metadata": {},
   "source": [
    "#### **Data Privacy of Source**\n",
    "##### My chosen dataset was sourced fromm Kaggle. Kaggle, as a host for datasets and machine-learning, has multiple responsibilities when it comes to protecting participants' and users' privacy. One of the most important data to protect is account data, whether they are passwords, emails or contact information. This collection of data should be minimised incase of potential data breaches. Kaggle must also keep usage data private and minimised as much as possible. It includes documenting activity and actions on the platform. As a platform that is responsible for holding sensitive information, Kaggle must also be transparent about their collection practices to their users and participants, so that they are well informed on what they may be revealing about their personal information,\n",
    "#### **Application Data Privacy**\n",
    "##### My responsibilites for maintaining the privacy of this dataset mainly revolve around participants who gave their information in the creation of this data. Some data is identifiable, if it reveals information about who actually gave it away. If I were to push this application to the public, I'll ensure all information is kept relevant to its use, while remaining transparent about collected user data and minimise it.\n",
    "#### **Cyber Security**\n",
    "##### To maintain cyber security in an application, its important to protect sensitive information. Firstly, an application should have a secure login process (if needed), which ensures the user to have a strong password, and even multi-factor authentication to add bonus layers of security. Data should allso be encrypted, to keep out unauthorized access. Applications should have constant monitering of activity within its servers and programs, to detect suspicious or dangerous activity early. Lastly, developers and managers of applications should regularly update their security practices, ensuring it is up to date with as little potential errors as possible, maintaining security of the data. These are all essential cybersecurity features within applications.\n",
    "* #### **User Authentication:** A process that verifies a user's identity, granting access to online applications or other resources.\n",
    "* #### **Password Hashing:** A security action that turns a password into a string of letters and numbers using an encyption algorithm, to ensure a secure password.\n",
    "* #### **Encryption:** A form of data security in which information is converted into ciphertext. Only authorized users are able to decipher the encrypted information to obtain the original plaintext."
   ]
  },
  {
   "attachments": {},
   "cell_type": "markdown",
   "metadata": {},
   "source": [
    "### Data Dictionaries"
   ]
  },
  {
   "attachments": {},
   "cell_type": "markdown",
   "metadata": {},
   "source": [
    "| Field    | Datatype | Format for Display | Description                  | Example | Validation                                                     |\n",
    "| :- | :- | :- | :- | :- | :- |\n",
    "| Car Name | object   | XX....XX          | The name of the car's model. | Swift   | Can be any amount of characters, but must not include numbers. |\n",
    "| Year | int64 | YYYY | Determines the year the model's data was recorded | 2014 | Can only be used in a YYYY format, and must not contain any characters other than whole numbers. |\n",
    "| Selling Price | float64 | NN.NN | The selling price of the car, marking its true value (in lakh INR) | 3.35 | Must always be a float, without exceeding 2 decimal places. |\n",
    "| Present Price | float64 | NN.NN | The current price of the car, according to the year (in lakh INR) | 23.15 | Must always be a float, without exceeding 2 decimal places. |\n",
    "| Kilometres Driven | int64 | NN....NN | How many kilometres the used car has driven. | 51000 | Can only be an integer. |\n",
    "| Fuel Type | object | XXXXXX | The type of fuel the car uses. | Diesel | Must only be either diesel or petrol. Cannot contain any numbers. |\n",
    "| Seller Type | object | XXXXXX... | Who sold the car to their respective owner. | Dealer | Can only be an object. Must not contain any numbers. | \n",
    "| Transmission | object | XXXXXX... | The type of transmission of the car model. | Manual | Can only be either Manual or Automatic. Must not contain any numbers. |\n",
    " "
   ]
  }
 ],
 "metadata": {
  "language_info": {
   "name": "python"
  },
  "orig_nbformat": 4
 },
 "nbformat": 4,
 "nbformat_minor": 2
}
